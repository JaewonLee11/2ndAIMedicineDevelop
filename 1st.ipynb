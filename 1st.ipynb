{
 "cells": [
  {
   "cell_type": "code",
   "execution_count": 1,
   "id": "06973947",
   "metadata": {},
   "outputs": [],
   "source": [
    "import pandas as pd\n",
    "import numpy as np\n",
    "import os\n",
    "import random\n",
    "\n",
    "from rdkit import Chem\n",
    "from rdkit.Chem import AllChem\n",
    "from sklearn.model_selection import train_test_split\n",
    "from sklearn.ensemble import RandomForestRegressor\n",
    "from sklearn.metrics import mean_squared_error\n",
    "\n",
    "import matplotlib.pyplot as plt\n",
    "import seaborn as sns"
   ]
  },
  {
   "cell_type": "markdown",
   "id": "d2dd8b22",
   "metadata": {},
   "source": [
    "### 데이터 로드"
   ]
  },
  {
   "cell_type": "code",
   "execution_count": null,
   "id": "9fd08339",
   "metadata": {},
   "outputs": [],
   "source": [
    "# 1. 데이터 로딩 및 기본 정보 확인\n",
    "train = pd.read_csv('datasets/train.csv')\n",
    "test = pd.read_csv('datasets/test.csv')"
   ]
  },
  {
   "cell_type": "markdown",
   "id": "7f981bb4",
   "metadata": {},
   "source": [
    "### EDA"
   ]
  },
  {
   "cell_type": "code",
   "execution_count": null,
   "id": "168b8bb6",
   "metadata": {},
   "outputs": [],
   "source": [
    "print(\"Train 데이터 크기:\", train.shape)\n",
    "print(\"Test 데이터 크기:\", test.shape)\n",
    "print(\"\\nTrain 데이터 정보:\")\n",
    "print(train.info())\n",
    "print(\"\\nTest 데이터 정보:\")\n",
    "print(test.info())\n",
    "\n",
    "print(\"\\n결측치 확인:\")\n",
    "print(train.isnull().sum())\n",
    "print(test.isnull().sum())"
   ]
  },
  {
   "cell_type": "code",
   "execution_count": null,
   "id": "de0a5458",
   "metadata": {},
   "outputs": [],
   "source": [
    "#train data 수치형 변수 확인\n",
    "num_col = train.select_dtypes(include=['int', 'float']).columns.tolist()\n",
    "num_col"
   ]
  },
  {
   "cell_type": "code",
   "execution_count": null,
   "id": "0e64f735",
   "metadata": {},
   "outputs": [],
   "source": [
    "n = len(num_col)\n",
    "cols = 2\n",
    "rows = (n+1)//cols\n",
    "\n",
    "plt.figure(figsize=(cols*6, rows*4))\n",
    "\n",
    "for i, col in enumerate(num_col):\n",
    "    plt.subplot(rows,cols, i+1)\n",
    "    plt.hist(train[col], bins=50, color='skyblue',edgecolor = 'black')\n",
    "    plt.title(f\"histogram of {col}\")\n",
    "    plt.xlabel(col)\n",
    "    plt.ylabel('count')\n",
    "\n",
    "plt.tight_layout()\n",
    "plt.show()"
   ]
  },
  {
   "cell_type": "code",
   "execution_count": null,
   "id": "a5dbc29c",
   "metadata": {},
   "outputs": [],
   "source": [
    "plt.figure(figsize=(cols*6, rows*4))\n",
    "\n",
    "for i, col in enumerate(num_col):\n",
    "    plt.subplot(rows,cols, i+1)\n",
    "    plt.boxplot(train[col])\n",
    "    plt.title(f\"boxplot of {col}\")\n",
    "    plt.xlabel(col)\n",
    "    plt.ylabel('count')\n",
    "\n",
    "plt.tight_layout()\n",
    "plt.show()"
   ]
  },
  {
   "cell_type": "code",
   "execution_count": null,
   "id": "f97be4fd",
   "metadata": {},
   "outputs": [],
   "source": [
    "plt.figure(figsize=(6,6))\n",
    "sns.scatterplot(x='IC50_nM', y='pIC50', data=train, alpha=0.5)\n",
    "plt.title('IC50_nM vs pIC50')\n",
    "plt.show()"
   ]
  },
  {
   "cell_type": "code",
   "execution_count": null,
   "id": "cc1deb11",
   "metadata": {},
   "outputs": [],
   "source": []
  },
  {
   "cell_type": "code",
   "execution_count": null,
   "id": "4ae2492b",
   "metadata": {},
   "outputs": [],
   "source": [
    "CFG = {\n",
    "    'NBITS':2048,\n",
    "    'SEED':42,\n",
    "}\n",
    "\n",
    "def seed_everything(seed):\n",
    "    random.seed(seed)\n",
    "    os.environ['PYTHONHASHSEED'] = str(seed)\n",
    "    np.random.seed(seed)\n",
    "seed_everything(CFG['SEED']) # Seed 고정\n",
    "\n",
    "# SMILES 데이터를 분자 지문으로 변환\n",
    "def smiles_to_fingerprint(smiles):\n",
    "    mol = Chem.MolFromSmiles(smiles)\n",
    "    if mol is not None:\n",
    "        fp = AllChem.GetMorganFingerprintAsBitVect(mol, 2, nBits=CFG['NBITS'])\n",
    "        return np.array(fp)\n",
    "    else:\n",
    "        return np.zeros((CFG['NBITS'],))\n"
   ]
  },
  {
   "cell_type": "code",
   "execution_count": null,
   "id": "25fc52d4",
   "metadata": {},
   "outputs": [],
   "source": [
    "train = chembl_data[['Smiles', 'pIC50']]\n",
    "train['Fingerprint'] = train['Smiles'].apply(smiles_to_fingerprint)\n",
    "\n",
    "train_x = np.stack(train['Fingerprint'].values)\n",
    "train_y = train['pIC50'].values\n",
    "\n",
    "# 학습 및 검증 데이터 분리\n",
    "train_x, val_x, train_y, val_y = train_test_split(train_x, train_y, test_size=0.3, random_state=42)"
   ]
  },
  {
   "cell_type": "code",
   "execution_count": null,
   "id": "8d990e53",
   "metadata": {},
   "outputs": [],
   "source": [
    "test['Fingerprint'] = test['Smiles'].apply(smiles_to_fingerprint)\n",
    "test"
   ]
  },
  {
   "cell_type": "code",
   "execution_count": null,
   "id": "a713bde8",
   "metadata": {},
   "outputs": [],
   "source": [
    "# 랜덤 포레스트 모델 학습\n",
    "model = RandomForestRegressor(random_state=CFG['SEED'])\n",
    "model.fit(train_x, train_y)\n",
    "\n",
    "def pIC50_to_IC50(pic50_values):\n",
    "    \"\"\"Convert pIC50 values to IC50 (nM).\"\"\"\n",
    "    return 10 ** (9 - pic50_values)\n",
    "\n",
    "# Validation 데이터로부터의 학습 모델 평가\n",
    "val_y_pred = model.predict(val_x)\n",
    "mse = mean_squared_error(pIC50_to_IC50(val_y), pIC50_to_IC50(val_y_pred))\n",
    "rmse = np.sqrt(mse)\n",
    "\n",
    "print(f'RMSE: {rmse}')\n",
    "\n",
    "\n",
    "\n",
    "test_x = np.stack(test['Fingerprint'].values)\n",
    "\n",
    "test_y_pred = model.predict(test_x)\n",
    "\n",
    "submit = pd.read_csv('./sample_submission.csv')\n",
    "submit['IC50_nM'] = pIC50_to_IC50(test_y_pred)\n",
    "submit.head()\n",
    "\n",
    "submit.to_csv('./baseline_submit.csv', index=False)"
   ]
  }
 ],
 "metadata": {
  "kernelspec": {
   "display_name": "torch",
   "language": "python",
   "name": "python3"
  },
  "language_info": {
   "codemirror_mode": {
    "name": "ipython",
    "version": 3
   },
   "file_extension": ".py",
   "mimetype": "text/x-python",
   "name": "python",
   "nbconvert_exporter": "python",
   "pygments_lexer": "ipython3",
   "version": "3.8.19"
  }
 },
 "nbformat": 4,
 "nbformat_minor": 5
}
